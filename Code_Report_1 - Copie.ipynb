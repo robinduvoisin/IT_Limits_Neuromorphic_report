{
 "cells": [
  {
   "cell_type": "code",
   "execution_count": 11,
   "id": "7e072f3c",
   "metadata": {},
   "outputs": [],
   "source": [
    "import numpy as np\n",
    "import matplotlib.pyplot as plt\n",
    "import scipy.special as ss\n",
    "import pandas as pd\n",
    "from scipy.stats import binom\n",
    "import plotly.graph_objects as go\n",
    "import scipy.optimize as so\n"
   ]
  },
  {
   "cell_type": "markdown",
   "id": "99a746cf",
   "metadata": {},
   "source": [
    "## Constant-Weight Code Vs Optimal-Code\n",
    "1) Generate a uniform and a power law dataset\n",
    "2) Define optimal N and A\n",
    "3) Compute the cost\n",
    "4) Compare"
   ]
  },
  {
   "cell_type": "code",
   "execution_count": 2,
   "id": "abf1d716",
   "metadata": {},
   "outputs": [],
   "source": [
    "## General Settings\n",
    "W=130"
   ]
  },
  {
   "cell_type": "code",
   "execution_count": 10,
   "id": "12bf608a",
   "metadata": {},
   "outputs": [
    {
     "name": "stdout",
     "output_type": "stream",
     "text": [
      "#### Test if sum of freq=1 :  True\n"
     ]
    },
    {
     "data": {
      "text/plain": [
       "Text(0, 0.5, 'Frequency')"
      ]
     },
     "execution_count": 10,
     "metadata": {},
     "output_type": "execute_result"
    },
    {
     "data": {
      "image/png": "[encoded data removed]",
      "text/plain": [
       "<Figure size 640x480 with 1 Axes>"
      ]
     },
     "metadata": {},
     "output_type": "display_data"
    }
   ],
   "source": [
    "## Power Law using https://data.world/tronovan/shakespeare-word-frequencies/workspace/file?filename=shakes_charts.ipynb\n",
    "\n",
    "DFshak = pd.read_csv('shakespeare.csv')\n",
    "DFshak = DFshak.rename(columns={DFshak.columns[0]:'count',DFshak.columns[1]:'word'})\n",
    "## Only assume the first W words and normalize accoriding to it\n",
    "Total_wshak=DFshak['count'][:W].sum()\n",
    "DFshak['frequency']=DFshak['count']/Total_wshak\n",
    "DFshak.head()\n",
    "power_d=np.array(DFshak['frequency'][:W])\n",
    "print(\"#### Test if sum of freq=1 : \",power_d.sum()==1)\n",
    "\n",
    "## Uniform Distribution\n",
    "uniform_d=np.zeros(W)+1/W\n",
    "\n",
    "x=range(0,W)\n",
    "\n",
    "## Fit Zipfs distribution\n",
    "def zipf(x,alpha):\n",
    "    return 1/(ss.zeta(alpha)*x**(alpha))\n",
    "\n",
    "zeta_fit=so.curve_fit(zipf,x,power_d)\n",
    "\n",
    "\n",
    "## Plot Two distributions\n",
    "plt_range=W\n",
    "plt.bar(x[:plt_range],uniform_d[:plt_range],alpha=0.9,label='Uniform Distribution',color='lightblue')\n",
    "plt.bar(x[:plt_range],power_d[:plt_range],alpha=0.5,label='Power Law',color='orange')\n",
    "plt.legend()\n",
    "plt.xlabel('Symbols W')\n",
    "plt.ylabel('Frequency')"
   ]
  },
  {
   "cell_type": "code",
   "execution_count": 34,
   "id": "aa642543",
   "metadata": {},
   "outputs": [],
   "source": [
    "## Solve Constant Weight Code\n",
    "def entropyR(r):\n",
    "    return -(r*np.log(r))-((1-r)*np.log(1-r))\n",
    "def findOptimalCWC(W,r,research): # r=N/A\n",
    "    Hr=entropyR(r)\n",
    "    Cost=(1+r)*(np.log(W)/Hr)\n",
    "    idx_r_optim=np.argmin(Cost)\n",
    "    r_optim=r[idx_r_optim]\n",
    "    N_optim=np.log(W)/entropyR(r_optim)\n",
    "    N_fin=int(np.ceil(N_optim)+1)\n",
    "    a_fin=int(np.ceil(N_fin*r_optim))\n",
    "    if research:\n",
    "        if ss.binom(N_fin,a_fin)<W:\n",
    "            final=0\n",
    "            print('---Problem----Search Solution around it')\n",
    "            print('---False Found N,A:',N_fin,a_fin,'/ Binomial :', ss.binom(N_fin,a_fin), ' < W:',W)\n",
    "            for a2 in range(a_fin,N_fin+1):\n",
    "                if ss.binom(N_fin,a2)>=W and final==0:\n",
    "                    print('---Problem Solved via different A')\n",
    "                    final=1\n",
    "                    a_fin=a2\n",
    "            if final==0:\n",
    "                for N2 in range(N_fin+1,N_fin+3):\n",
    "                    for a2 in range(0,N2):\n",
    "                        if ss.binom(N2,a2)>=W and final==0:\n",
    "                            print('---Problem Solved via different N & A')\n",
    "                            final=1\n",
    "                            a_fin=a2\n",
    "                            N_fin=N2\n",
    "    Cost_fin=a_fin+N_fin\n",
    "    return a_fin,N_fin,Cost_fin,Cost"
   ]
  },
  {
   "cell_type": "code",
   "execution_count": 35,
   "id": "2a2e5059",
   "metadata": {},
   "outputs": [
    {
     "name": "stdout",
     "output_type": "stream",
     "text": [
      "---Problem----Search Solution around it\n",
      "---False Found N,A: 9 4 / Binomial : 126.0  < W: 130\n",
      "---Problem Solved via different N & A\n",
      "Optimal Constant Weight Code Parameters:\n",
      "W  130 / N  10 / A  4 / Binomial coeff: 210.0\n",
      "Total Cost:  1820\n"
     ]
    }
   ],
   "source": [
    "ratio_NA=np.linspace(0.01,0.99,5000)\n",
    "A_cwc,N_cwc,Cost_cwc,Costall_cwc=findOptimalCWC(W,ratio_NA,True)\n",
    "#plt.plot(ratio_NA,Cost_cwc)\n",
    "#plt.title('Cost Optim for Pau Uniform Distrib')\n",
    "#plt.vlines(x=[A_cwc/N_cwc],color='g',ymin=10,ymax=35)\n",
    "print(\"Optimal Constant Weight Code Parameters:\")\n",
    "print('W ',W, '/ N ',N_cwc,'/ A ',A_cwc,'/ Binomial coeff:',ss.binom(N_cwc,A_cwc) )\n",
    "print('Total Cost: ',W*Cost_cwc)\n"
   ]
  },
  {
   "cell_type": "code",
   "execution_count": 36,
   "id": "26342d46",
   "metadata": {},
   "outputs": [],
   "source": [
    "## Optimal Code\n",
    "def findN(W):\n",
    "    N=np.ceil(np.log2(W))\n",
    "    return N\n",
    "#def GenerateBinomial(N):\n",
    "#    p=1/2\n",
    "#    x_cBd=np.linspace(0, 2**N+1, 100*2**N)\n",
    "#    y_cBd=binom.cdf(x_cBd, N,p)\n",
    "#    y_pBd=binom.pmf(x_cBd, N,p)\n",
    "#    return x_cBd,y_cBd,y_pBd\n",
    "#def findA(W,x_cNd,y_cNd,N_o):\n",
    "#    idx_A=np.argmin(np.abs(W-(2**N_o)*y_cNd))\n",
    "#    A=np.ceil(x_cNd[idx_A])\n",
    "#    return A\n",
    "#def OptimalCode2(W):\n",
    "#    N_oc=int(findN(W))\n",
    "#    x_CB,y_CB,y_PB=GenerateBinomial(N_oc)\n",
    "#    A_oc=int(findA(W,x_CB,y_CB,N_oc))\n",
    "#    # Compute Cost A\n",
    "#    alpha_A=[]\n",
    "#    Binomal_Total=0\n",
    "#    for aj in range(0,A_oc+1): # +1 because want to reach Afinal\n",
    "#        bino=int(ss.binom(N_oc, aj))\n",
    "#        Binomal_Total+=bino\n",
    "#        Value=int(aj)\n",
    "#        intemr=np.zeros(bino)+Value\n",
    "#        alpha_A=np.concatenate((alpha_A,intemr))\n",
    "#    #Clean alpha such that keep only W components\n",
    "#    alpha_AW=alpha_A[:W]\n",
    "#    C_A=np.sum(alpha_AW)\n",
    "#    # Compute Cost N\n",
    "#    C_N=N_oc*W\n",
    "#    C_total=C_A+C_N\n",
    "#    return N_oc,A_oc,alpha_AW,Binomal_Total,C_total\n",
    "#\n",
    "def BinomialCDF(N):\n",
    "    Bin_cdf=[]\n",
    "    for aj in range(0,N+1):\n",
    "        bin_interm=[int(ss.binom(N,k)) for k in range(0,aj+1)]\n",
    "        Bin_cdf.append(np.sum(bin_interm)/2**N) # divide by 2**N to reach 1 at end of cdf\n",
    "    Pascal=bin_interm\n",
    "    return Bin_cdf,Pascal\n",
    "def OptimalCode(W,r=1,N=0):\n",
    "    if N==0:\n",
    "        print('---no N as input')\n",
    "        N=int(findN(W))\n",
    "    Bin_cdf,Pascal=BinomialCDF(N)\n",
    "    Optimal_cdf=np.array([Bin_cdf_i-W/2**N for Bin_cdf_i in Bin_cdf])\n",
    "    Optimal_cdf[Optimal_cdf<0]=np.nan # delete all Case where we would have not enough Symbols (A too small) (can't use abs else if W=160 and N,A gives 157, it will be closest but not enough symbols)\n",
    "    A=np.nanargmin(Optimal_cdf)\n",
    "    CW_used=[Pascal_i for Pascal_i in Pascal[:int(A)]] # Keep all binomial\n",
    "    CW_used.append(W-np.sum(CW_used)) # Fullfil the last layer with just enough codewords\n",
    "    Alpha=[]\n",
    "    for aj in range(0,A+1): # +1 because want to reach Afinal\n",
    "        Value=int(aj)\n",
    "        intemr=np.zeros(CW_used[aj])+Value\n",
    "        Alpha=np.concatenate((Alpha,intemr))\n",
    "    Cost_Alpha=[CW_used[i]*i for i in range(0,A+1)]\n",
    "    Cost_N=N*W\n",
    "    Cost_Total=(r*np.sum(Alpha)+Cost_N)\n",
    "    return N,A,Alpha,CW_used,Cost_Total"
   ]
  },
  {
   "cell_type": "code",
   "execution_count": 37,
   "id": "b6ae68b9",
   "metadata": {},
   "outputs": [
    {
     "name": "stdout",
     "output_type": "stream",
     "text": [
      "---no N as input\n",
      "Optimal Code Parameters:\n",
      "W  130 / N  8 / A  4 / Binomial coeff: [1, 8, 28, 56, 37] / Sum Binom: 130\n",
      "Total Cost:  1420.0\n"
     ]
    }
   ],
   "source": [
    "N_oc,A_oc,alpha_Aoc,bin_oc,Cost_oc=OptimalCode(W)\n",
    "print(\"Optimal Code Parameters:\")\n",
    "print('W ',W, '/ N ',N_oc,'/ A ',A_oc,'/ Binomial coeff:',bin_oc,'/ Sum Binom:',np.sum(bin_oc) )\n",
    "print('Total Cost: ',Cost_oc)\n"
   ]
  },
  {
   "cell_type": "code",
   "execution_count": 38,
   "id": "aabde53d",
   "metadata": {},
   "outputs": [],
   "source": [
    "## Cost for CWC\n",
    "Cost_cwc_power=power_d*(N_cwc+A_cwc)*W\n",
    "Cost_cwc_uniform=uniform_d*(N_cwc+A_cwc)*W\n",
    "## Cost for OC\n",
    "Cost_oc_power=[]\n",
    "Cost_oc_uni=[]\n",
    "\n",
    "for i in range(0,W):\n",
    "    ci=power_d[i]*(alpha_Aoc[i]+N_oc)*W\n",
    "    ci_uni=uniform_d[i]*(alpha_Aoc[i]+N_oc)*W\n",
    "    Cost_oc_power.append(ci)\n",
    "    Cost_oc_uni.append(ci_uni)\n"
   ]
  },
  {
   "cell_type": "code",
   "execution_count": 39,
   "id": "cd5b1021",
   "metadata": {},
   "outputs": [
    {
     "data": {
      "text/plain": [
       "Text(0, 0.5, 'Cost')"
      ]
     },
     "execution_count": 39,
     "metadata": {},
     "output_type": "execute_result"
    },
    {
     "data": {
      "image/png": "[encoded data removed]",
      "text/plain": [
       "<Figure size 640x480 with 1 Axes>"
      ]
     },
     "metadata": {},
     "output_type": "display_data"
    }
   ],
   "source": [
    "## Plot Uniform\n",
    "label_cwc=\"CWC Total Cost : \"+str(int(np.sum(Cost_cwc_uniform)))\n",
    "plt.plot(x,Cost_cwc_uniform,label=label_cwc,color='deepskyblue',linestyle='dashed')\n",
    "plt.fill_between(x, Cost_cwc_uniform, step=\"mid\", alpha=0.4,color='deepskyblue')\n",
    "\n",
    "label_oc=\"OC Total Cost : \"+str(int(np.sum(Cost_oc_uni)))\n",
    "plt.plot(x,Cost_oc_uni,label=label_oc,color='teal')\n",
    "plt.fill_between(x, Cost_oc_uni, step=\"mid\", alpha=0.4,color='teal')\n",
    "\n",
    "#plt.plot(x,Cost_cwc_uniform,label=['OC--Total:',np.sum(Cost_oc_uni)])\n",
    "plt.legend(loc='lower right')\n",
    "plt.title('Compare CWC and OC with Uniform Distribution')\n",
    "plt.xlabel('Symbols W')\n",
    "plt.ylabel('Cost')"
   ]
  },
  {
   "cell_type": "code",
   "execution_count": 40,
   "id": "45b82bdf",
   "metadata": {},
   "outputs": [
    {
     "data": {
      "text/plain": [
       "Text(0, 0.5, 'Cost')"
      ]
     },
     "execution_count": 40,
     "metadata": {},
     "output_type": "execute_result"
    },
    {
     "data": {
      "image/png": "[encoded data removed]",
      "text/plain": [
       "<Figure size 640x480 with 1 Axes>"
      ]
     },
     "metadata": {},
     "output_type": "display_data"
    }
   ],
   "source": [
    "## Plot PowerLaw\n",
    "label_cwc=\"CWC Total Cost : \"+str(int(np.sum(Cost_cwc_power)))\n",
    "plt.plot(x,Cost_cwc_power,label=label_cwc,color='peru',linestyle='dashed')\n",
    "plt.fill_between(x, Cost_cwc_power, step=\"mid\", alpha=0.4,color='peru')\n",
    "\n",
    "label_oc=\"OC Total Cost : \"+str(int(np.sum(Cost_oc_power)))\n",
    "plt.plot(x,Cost_oc_power,label=label_oc,color='darkorange')\n",
    "plt.fill_between(x, Cost_oc_power, step=\"mid\", alpha=0.4,color='darkorange')\n",
    "\n",
    "#plt.plot(x,Cost_cwc_uniform,label=['OC--Total:',np.sum(Cost_oc_uni)])\n",
    "plt.legend(loc='upper right')\n",
    "plt.title('Compare CWC and OC with Power Law')\n",
    "plt.xlabel('Symbols W')\n",
    "plt.ylabel('Cost')"
   ]
  },
  {
   "cell_type": "markdown",
   "id": "e4fac921",
   "metadata": {},
   "source": [
    "## Compute With R"
   ]
  },
  {
   "cell_type": "code",
   "execution_count": 41,
   "id": "d91a95b8",
   "metadata": {},
   "outputs": [],
   "source": [
    "R=[1,4,8,12,20,30]\n",
    "diff_N=20\n",
    "N_min=N_oc\n",
    "N_max=N_min+diff_N\n"
   ]
  },
  {
   "cell_type": "code",
   "execution_count": 42,
   "id": "cebab515",
   "metadata": {},
   "outputs": [],
   "source": [
    "## Compute solution for each r\n",
    "R_Cost_all=[]\n",
    "R_N_all=range(N_min,N_max)\n",
    "R_A_all=[]\n",
    "\n",
    "for ri in R:\n",
    "    R_c=[]\n",
    "    R_a=[]\n",
    "    for ni in R_N_all:\n",
    "        Ni,Ai,alpha_i,bin_i,Cost_i=OptimalCode(W,ri,ni)\n",
    "        R_c.append(Cost_i)\n",
    "        R_a.append(Ai)\n",
    "    R_Cost_all.append(R_c)\n",
    "    R_A_all.append(R_a)"
   ]
  },
  {
   "cell_type": "code",
   "execution_count": 43,
   "id": "89bdd2ec",
   "metadata": {},
   "outputs": [
    {
     "data": {
      "text/plain": [
       "<matplotlib.legend.Legend at 0x22a4c760a10>"
      ]
     },
     "execution_count": 43,
     "metadata": {},
     "output_type": "execute_result"
    },
    {
     "data": {
      "image/png": "[encoded data removed]",
      "text/plain": [
       "<Figure size 640x480 with 1 Axes>"
      ]
     },
     "metadata": {},
     "output_type": "display_data"
    }
   ],
   "source": [
    "for i,ri in enumerate(R):\n",
    "    lab='r='+str(ri)\n",
    "    plt.plot(R_N_all,R_Cost_all[i],label=lab)\n",
    "    ymin=np.min(R_Cost_all[i])\n",
    "    xmin=N_min+np.argmin(R_Cost_all[i])\n",
    "    plt.scatter(xmin,ymin,s=80, facecolors='none', edgecolors='r')\n",
    "# for legend\n",
    "plt.scatter(-100,-100,s=80, facecolors='none', edgecolors='r',label='min') # dummy pts\n",
    "# settings\n",
    "plt.xlim([N_min-0.1*N_min,N_max])\n",
    "plt.ylim([np.min(R_Cost_all)-0.7*np.min(R_Cost_all),np.max(R_Cost_all)+0.1*np.min(R_Cost_all)])\n",
    "plt.xlabel('N')\n",
    "plt.ylabel('Total Cost')\n",
    "plt.title('Effect on Optimal N With different R')\n",
    "plt.legend(loc='lower right')"
   ]
  },
  {
   "cell_type": "code",
   "execution_count": 83,
   "id": "67e51dbb",
   "metadata": {},
   "outputs": [],
   "source": [
    "## Surface\n",
    "R_end=30\n",
    "R_vec=np.linspace(0.5,R_end,diff_N)\n",
    "vec_R_N_all=range(N_min,N_max)\n",
    "## Compute solution for each r\n",
    "vec_R_Cost_all=[]\n",
    "\n",
    "for ri in R_vec:\n",
    "    vec_R_c=[]\n",
    "    for ni in vec_R_N_all:\n",
    "        Ni,Ai,alpha_i,bin_i,Cost_i=OptimalCode(W,ri,ni)\n",
    "        vec_R_c.append(Cost_i)\n",
    "    vec_R_Cost_all.append(vec_R_c)\n",
    "\n",
    "\n",
    "#data=go.Surface(x=)\n",
    "#fig=go.Figure(data=[])"
   ]
  },
  {
   "cell_type": "code",
   "execution_count": 84,
   "id": "69b6deaa",
   "metadata": {},
   "outputs": [],
   "source": [
    "\n",
    "idx_min=np.argmin(np.array(vec_R_Cost_all),axis=1) # Compute all minimum\n",
    "Bis=np.zeros((np.array(vec_R_Cost_all)).shape)\n",
    "for i,j in enumerate(idx_min):\n",
    "    Bis[i][j]=1\n",
    "surface_color=Bis\n",
    "colorscale_ = [ 'blue','red']\n",
    "contours_={\"x\": {\"show\": True, \"start\":N_min, \"end\": N_max, \"size\": 1, \"color\": \"grey\"},\n",
    "            \"y\": {\"show\": True, \"start\": 0, \"end\": R_end, \"size\": 1, \"color\": \"grey\"}}\n",
    "data=[go.Surface(z=np.array(vec_R_Cost_all), x=np.array(vec_R_N_all), y=np.array(R_vec),\n",
    "                                surfacecolor=surface_color,\n",
    "                                contours=contours_,\n",
    "                                colorscale=colorscale_)]\n",
    "\n"
   ]
  },
  {
   "cell_type": "code",
   "execution_count": 85,
   "id": "8a8a18a8",
   "metadata": {},
   "outputs": [
    {
     "data": {
      "application/vnd.plotly.v1+json": {
       "config": {
        "plotlyServerURL": "https://plot.ly"
       },
       "data": [
        {
         "colorscale": [
          [
           0,
           "blue"
          ],
          [
           1,
           "red"
          ]
         ],
         "contours": {
          "x": {
           "color": "grey",
           "end": 28,
           "show": true,
           "size": 1,
           "start": 8
          },
          "y": {
           "color": "grey",
           "end": 30,
           "show": true,
           "size": 1,
           "start": 0
          }
         },
         "surfacecolor": [
          [
           1,
           0,
           0,
           0,
           0,
           0,
           0,
           0,
           0,
           0,
           0,
           0,
           0,
           0,
           0,
           0,
           0,
           0,
           0,
           0
          ],
          [
           1,
           0,
           0,
           0,
           0,
           0,
           0,
           0,
           0,
           0,
           0,
           0,
           0,
           0,
           0,
           0,
           0,
           0,
           0,
           0
          ],
          [
           0,
           1,
           0,
           0,
           0,
           0,
           0,
           0,
           0,
           0,
           0,
           0,
           0,
           0,
           0,
           0,
           0,
           0,
           0,
           0
          ],
          [
           0,
           1,
           0,
           0,
           0,
           0,
           0,
           0,
           0,
           0,
           0,
           0,
           0,
           0,
           0,
           0,
           0,
           0,
           0,
           0
          ],
          [
           0,
           1,
           0,
           0,
           0,
           0,
           0,
           0,
           0,
           0,
           0,
           0,
           0,
           0,
           0,
           0,
           0,
           0,
           0,
           0
          ],
          [
           0,
           1,
           0,
           0,
           0,
           0,
           0,
           0,
           0,
           0,
           0,
           0,
           0,
           0,
           0,
           0,
           0,
           0,
           0,
           0
          ],
          [
           0,
           0,
           0,
           0,
           0,
           0,
           0,
           1,
           0,
           0,
           0,
           0,
           0,
           0,
           0,
           0,
           0,
           0,
           0,
           0
          ],
          [
           0,
           0,
           0,
           0,
           0,
           0,
           0,
           1,
           0,
           0,
           0,
           0,
           0,
           0,
           0,
           0,
           0,
           0,
           0,
           0
          ],
          [
           0,
           0,
           0,
           0,
           0,
           0,
           0,
           1,
           0,
           0,
           0,
           0,
           0,
           0,
           0,
           0,
           0,
           0,
           0,
           0
          ],
          [
           0,
           0,
           0,
           0,
           0,
           0,
           0,
           0,
           1,
           0,
           0,
           0,
           0,
           0,
           0,
           0,
           0,
           0,
           0,
           0
          ],
          [
           0,
           0,
           0,
           0,
           0,
           0,
           0,
           0,
           1,
           0,
           0,
           0,
           0,
           0,
           0,
           0,
           0,
           0,
           0,
           0
          ],
          [
           0,
           0,
           0,
           0,
           0,
           0,
           0,
           0,
           1,
           0,
           0,
           0,
           0,
           0,
           0,
           0,
           0,
           0,
           0,
           0
          ],
          [
           0,
           0,
           0,
           0,
           0,
           0,
           0,
           0,
           1,
           0,
           0,
           0,
           0,
           0,
           0,
           0,
           0,
           0,
           0,
           0
          ],
          [
           0,
           0,
           0,
           0,
           0,
           0,
           0,
           0,
           1,
           0,
           0,
           0,
           0,
           0,
           0,
           0,
           0,
           0,
           0,
           0
          ],
          [
           0,
           0,
           0,
           0,
           0,
           0,
           0,
           0,
           1,
           0,
           0,
           0,
           0,
           0,
           0,
           0,
           0,
           0,
           0,
           0
          ],
          [
           0,
           0,
           0,
           0,
           0,
           0,
           0,
           0,
           1,
           0,
           0,
           0,
           0,
           0,
           0,
           0,
           0,
           0,
           0,
           0
          ],
          [
           0,
           0,
           0,
           0,
           0,
           0,
           0,
           0,
           1,
           0,
           0,
           0,
           0,
           0,
           0,
           0,
           0,
           0,
           0,
           0
          ],
          [
           0,
           0,
           0,
           0,
           0,
           0,
           0,
           0,
           1,
           0,
           0,
           0,
           0,
           0,
           0,
           0,
           0,
           0,
           0,
           0
          ],
          [
           0,
           0,
           0,
           0,
           0,
           0,
           0,
           0,
           1,
           0,
           0,
           0,
           0,
           0,
           0,
           0,
           0,
           0,
           0,
           0
          ],
          [
           0,
           0,
           0,
           0,
           0,
           0,
           0,
           0,
           1,
           0,
           0,
           0,
           0,
           0,
           0,
           0,
           0,
           0,
           0,
           0
          ]
         ],
         "type": "surface",
         "x": [
          8,
          9,
          10,
          11,
          12,
          13,
          14,
          15,
          16,
          17,
          18,
          19,
          20,
          21,
          22,
          23,
          24,
          25,
          26,
          27
         ],
         "y": [
          0.5,
          2.052631578947368,
          3.6052631578947367,
          5.157894736842105,
          6.7105263157894735,
          8.263157894736842,
          9.81578947368421,
          11.368421052631579,
          12.921052631578947,
          14.473684210526315,
          16.026315789473685,
          17.57894736842105,
          19.13157894736842,
          20.684210526315788,
          22.236842105263158,
          23.789473684210524,
          25.342105263157894,
          26.894736842105264,
          28.44736842105263,
          30
         ],
         "z": [
          [
           1230,
           1336.5,
           1461,
           1585,
           1708.5,
           1831.5,
           1954,
           2076,
           2201,
           2330.5,
           2460,
           2589.5,
           2719,
           2848.5,
           2978,
           3107.5,
           3237,
           3366.5,
           3496,
           3625.5
          ],
          [
           1820,
           1853.5263157894738,
           1960.9473684210525,
           2066.315789473684,
           2169.6315789473683,
           2270.894736842105,
           2370.1052631578946,
           2467.2631578947367,
           2576.736842105263,
           2704.684210526316,
           2832.6315789473683,
           2960.578947368421,
           3088.5263157894738,
           3216.4736842105262,
           3344.4210526315787,
           3472.3684210526317,
           3600.315789473684,
           3728.2631578947367,
           3856.2105263157896,
           3984.157894736842
          ],
          [
           2410,
           2370.5526315789475,
           2460.894736842105,
           2547.6315789473683,
           2630.7631578947367,
           2710.2894736842104,
           2786.2105263157896,
           2858.5263157894738,
           2952.4736842105262,
           3078.8684210526317,
           3205.2631578947367,
           3331.657894736842,
           3458.0526315789475,
           3584.4473684210525,
           3710.842105263158,
           3837.2368421052633,
           3963.6315789473683,
           4090.0263157894738,
           4216.421052631579,
           4342.815789473684
          ],
          [
           3000,
           2887.578947368421,
           2960.842105263158,
           3028.9473684210525,
           3091.894736842105,
           3149.684210526316,
           3202.315789473684,
           3249.789473684211,
           3328.2105263157896,
           3453.0526315789475,
           3577.894736842105,
           3702.7368421052633,
           3827.578947368421,
           3952.421052631579,
           4077.2631578947367,
           4202.105263157895,
           4326.9473684210525,
           4451.789473684211,
           4576.631578947368,
           4701.473684210527
          ],
          [
           3590,
           3404.6052631578946,
           3460.7894736842104,
           3510.2631578947367,
           3553.0263157894733,
           3589.078947368421,
           3618.421052631579,
           3641.0526315789475,
           3703.9473684210525,
           3827.2368421052633,
           3950.5263157894733,
           4073.815789473684,
           4197.105263157895,
           4320.394736842105,
           4443.684210526316,
           4566.973684210527,
           4690.263157894737,
           4813.5526315789475,
           4936.842105263158,
           5060.131578947368
          ],
          [
           4180,
           3921.6315789473683,
           3960.7368421052633,
           3991.5789473684213,
           4014.157894736842,
           4028.4736842105262,
           4034.5263157894738,
           4032.315789473684,
           4079.684210526316,
           4201.421052631579,
           4323.157894736842,
           4444.894736842105,
           4566.631578947368,
           4688.368421052632,
           4810.105263157895,
           4931.842105263158,
           5053.578947368421,
           5175.315789473684,
           5297.0526315789475,
           5418.789473684211
          ],
          [
           4770,
           4438.657894736842,
           4460.684210526316,
           4472.894736842105,
           4475.28947368421,
           4467.868421052632,
           4450.631578947368,
           4423.578947368422,
           4455.421052631579,
           4575.605263157895,
           4695.78947368421,
           4815.973684210527,
           4936.157894736842,
           5056.342105263158,
           5176.526315789473,
           5296.71052631579,
           5416.894736842105,
           5537.078947368422,
           5657.263157894737,
           5777.4473684210525
          ],
          [
           5360,
           4955.684210526316,
           4960.631578947368,
           4954.21052631579,
           4936.421052631578,
           4907.263157894737,
           4866.736842105263,
           4814.842105263158,
           4831.157894736842,
           4949.78947368421,
           5068.421052631578,
           5187.0526315789475,
           5305.684210526316,
           5424.315789473684,
           5542.9473684210525,
           5661.578947368421,
           5780.21052631579,
           5898.842105263158,
           6017.473684210527,
           6136.105263157895
          ],
          [
           5950,
           5472.710526315789,
           5460.578947368421,
           5435.526315789473,
           5397.552631578947,
           5346.657894736842,
           5282.842105263158,
           5206.105263157895,
           5206.894736842105,
           5323.973684210527,
           5441.052631578947,
           5558.131578947368,
           5675.210526315789,
           5792.28947368421,
           5909.368421052632,
           6026.4473684210525,
           6143.526315789473,
           6260.605263157895,
           6377.684210526316,
           6494.763157894737
          ],
          [
           6540,
           5989.736842105263,
           5960.526315789473,
           5916.8421052631575,
           5858.684210526316,
           5786.0526315789475,
           5698.9473684210525,
           5597.368421052632,
           5582.631578947368,
           5698.157894736842,
           5813.684210526316,
           5929.210526315789,
           6044.736842105263,
           6160.263157894737,
           6275.78947368421,
           6391.315789473684,
           6506.842105263158,
           6622.368421052632,
           6737.894736842105,
           6853.421052631578
          ],
          [
           7130,
           6506.763157894737,
           6460.473684210527,
           6398.1578947368425,
           6319.815789473684,
           6225.4473684210525,
           6115.0526315789475,
           5988.631578947368,
           5958.368421052632,
           6072.342105263158,
           6186.315789473684,
           6300.289473684211,
           6414.263157894737,
           6528.236842105263,
           6642.21052631579,
           6756.184210526316,
           6870.157894736842,
           6984.131578947368,
           7098.105263157895,
           7212.078947368422
          ],
          [
           7719.999999999999,
           7023.78947368421,
           6960.421052631578,
           6879.473684210526,
           6780.9473684210525,
           6664.8421052631575,
           6531.157894736842,
           6379.894736842105,
           6334.105263157894,
           6446.526315789473,
           6558.9473684210525,
           6671.368421052632,
           6783.78947368421,
           6896.210526315789,
           7008.631578947368,
           7121.0526315789475,
           7233.473684210526,
           7345.894736842105,
           7458.315789473683,
           7570.736842105263
          ],
          [
           8310,
           7540.815789473684,
           7460.368421052632,
           7360.789473684211,
           7242.078947368421,
           7104.236842105263,
           6947.263157894737,
           6771.1578947368425,
           6709.842105263158,
           6820.710526315789,
           6931.578947368421,
           7042.4473684210525,
           7153.315789473684,
           7264.184210526316,
           7375.0526315789475,
           7485.921052631579,
           7596.789473684211,
           7707.6578947368425,
           7818.526315789473,
           7929.394736842105
          ],
          [
           8900,
           8057.8421052631575,
           7960.315789473683,
           7842.105263157894,
           7703.210526315789,
           7543.631578947368,
           7363.368421052631,
           7162.421052631578,
           7085.578947368421,
           7194.894736842105,
           7304.210526315789,
           7413.526315789473,
           7522.8421052631575,
           7632.157894736842,
           7741.473684210526,
           7850.78947368421,
           7960.105263157894,
           8069.421052631578,
           8178.736842105262,
           8288.052631578947
          ],
          [
           9490,
           8574.868421052632,
           8460.263157894737,
           8323.42105263158,
           8164.3421052631575,
           7983.026315789473,
           7779.473684210526,
           7553.684210526316,
           7461.315789473684,
           7569.078947368421,
           7676.8421052631575,
           7784.605263157895,
           7892.368421052632,
           8000.131578947368,
           8107.894736842105,
           8215.657894736842,
           8323.42105263158,
           8431.184210526317,
           8538.947368421053,
           8646.71052631579
          ],
          [
           10079.999999999998,
           9091.894736842103,
           8960.21052631579,
           8804.736842105263,
           8625.473684210527,
           8422.421052631578,
           8195.57894736842,
           7944.947368421052,
           7837.052631578947,
           7943.263157894737,
           8049.473684210526,
           8155.684210526315,
           8261.894736842105,
           8368.105263157893,
           8474.315789473683,
           8580.526315789473,
           8686.736842105263,
           8792.947368421053,
           8899.157894736842,
           9005.36842105263
          ],
          [
           10670,
           9608.921052631578,
           9460.157894736842,
           9286.052631578947,
           9086.605263157893,
           8861.815789473683,
           8611.684210526317,
           8336.21052631579,
           8212.78947368421,
           8317.447368421053,
           8422.105263157893,
           8526.763157894737,
           8631.421052631578,
           8736.07894736842,
           8840.736842105263,
           8945.394736842105,
           9050.052631578947,
           9154.71052631579,
           9259.368421052632,
           9364.026315789473
          ],
          [
           11260,
           10125.947368421053,
           9960.105263157895,
           9767.368421052632,
           9547.736842105263,
           9301.21052631579,
           9027.78947368421,
           8727.473684210527,
           8588.526315789473,
           8691.631578947368,
           8794.736842105263,
           8897.842105263158,
           9000.947368421053,
           9104.052631578947,
           9207.157894736843,
           9310.263157894737,
           9413.368421052632,
           9516.473684210527,
           9619.57894736842,
           9722.684210526317
          ],
          [
           11850,
           10642.973684210527,
           10460.052631578947,
           10248.684210526315,
           10008.868421052632,
           9740.605263157893,
           9443.894736842105,
           9118.736842105263,
           8964.263157894737,
           9065.815789473683,
           9167.368421052632,
           9268.921052631578,
           9370.473684210527,
           9472.026315789473,
           9573.57894736842,
           9675.131578947368,
           9776.684210526317,
           9878.236842105263,
           9979.78947368421,
           10081.342105263157
          ],
          [
           12440,
           11160,
           10960,
           10730,
           10470,
           10180,
           9860,
           9510,
           9340,
           9440,
           9540,
           9640,
           9740,
           9840,
           9940,
           10040,
           10140,
           10240,
           10340,
           10440
          ]
         ]
        }
       ],
       "layout": {
        "autosize": false,
        "height": 800,
        "scene": {
         "xaxis": {
          "title": {
           "text": "N Axis"
          }
         },
         "yaxis": {
          "title": {
           "text": "R Axis"
          }
         },
         "zaxis": {
          "title": {
           "text": "Cost Axis"
          }
         }
        },
        "template": {
         "data": {
          "bar": [
           {
            "error_x": {
             "color": "#2a3f5f"
            },
            "error_y": {
             "color": "#2a3f5f"
            },
            "marker": {
             "line": {
              "color": "#E5ECF6",
              "width": 0.5
             },
             "pattern": {
              "fillmode": "overlay",
              "size": 10,
              "solidity": 0.2
             }
            },
            "type": "bar"
           }
          ],
          "barpolar": [
           {
            "marker": {
             "line": {
              "color": "#E5ECF6",
              "width": 0.5
             },
             "pattern": {
              "fillmode": "overlay",
              "size": 10,
              "solidity": 0.2
             }
            },
            "type": "barpolar"
           }
          ],
          "carpet": [
           {
            "aaxis": {
             "endlinecolor": "#2a3f5f",
             "gridcolor": "white",
             "linecolor": "white",
             "minorgridcolor": "white",
             "startlinecolor": "#2a3f5f"
            },
            "baxis": {
             "endlinecolor": "#2a3f5f",
             "gridcolor": "white",
             "linecolor": "white",
             "minorgridcolor": "white",
             "startlinecolor": "#2a3f5f"
            },
            "type": "carpet"
           }
          ],
          "choropleth": [
           {
            "colorbar": {
             "outlinewidth": 0,
             "ticks": ""
            },
            "type": "choropleth"
           }
          ],
          "contour": [
           {
            "colorbar": {
             "outlinewidth": 0,
             "ticks": ""
            },
            "colorscale": [
             [
              0,
              "#0d0887"
             ],
             [
              0.1111111111111111,
              "#46039f"
             ],
             [
              0.2222222222222222,
              "#7201a8"
             ],
             [
              0.3333333333333333,
              "#9c179e"
             ],
             [
              0.4444444444444444,
              "#bd3786"
             ],
             [
              0.5555555555555556,
              "#d8576b"
             ],
             [
              0.6666666666666666,
              "#ed7953"
             ],
             [
              0.7777777777777778,
              "#fb9f3a"
             ],
             [
              0.8888888888888888,
              "#fdca26"
             ],
             [
              1,
              "#f0f921"
             ]
            ],
            "type": "contour"
           }
          ],
          "contourcarpet": [
           {
            "colorbar": {
             "outlinewidth": 0,
             "ticks": ""
            },
            "type": "contourcarpet"
           }
          ],
          "heatmap": [
           {
            "colorbar": {
             "outlinewidth": 0,
             "ticks": ""
            },
            "colorscale": [
             [
              0,
              "#0d0887"
             ],
             [
              0.1111111111111111,
              "#46039f"
             ],
             [
              0.2222222222222222,
              "#7201a8"
             ],
             [
              0.3333333333333333,
              "#9c179e"
             ],
             [
              0.4444444444444444,
              "#bd3786"
             ],
             [
              0.5555555555555556,
              "#d8576b"
             ],
             [
              0.6666666666666666,
              "#ed7953"
             ],
             [
              0.7777777777777778,
              "#fb9f3a"
             ],
             [
              0.8888888888888888,
              "#fdca26"
             ],
             [
              1,
              "#f0f921"
             ]
            ],
            "type": "heatmap"
           }
          ],
          "heatmapgl": [
           {
            "colorbar": {
             "outlinewidth": 0,
             "ticks": ""
            },
            "colorscale": [
             [
              0,
              "#0d0887"
             ],
             [
              0.1111111111111111,
              "#46039f"
             ],
             [
              0.2222222222222222,
              "#7201a8"
             ],
             [
              0.3333333333333333,
              "#9c179e"
             ],
             [
              0.4444444444444444,
              "#bd3786"
             ],
             [
              0.5555555555555556,
              "#d8576b"
             ],
             [
              0.6666666666666666,
              "#ed7953"
             ],
             [
              0.7777777777777778,
              "#fb9f3a"
             ],
             [
              0.8888888888888888,
              "#fdca26"
             ],
             [
              1,
              "#f0f921"
             ]
            ],
            "type": "heatmapgl"
           }
          ],
          "histogram": [
           {
            "marker": {
             "pattern": {
              "fillmode": "overlay",
              "size": 10,
              "solidity": 0.2
             }
            },
            "type": "histogram"
           }
          ],
          "histogram2d": [
           {
            "colorbar": {
             "outlinewidth": 0,
             "ticks": ""
            },
            "colorscale": [
             [
              0,
              "#0d0887"
             ],
             [
              0.1111111111111111,
              "#46039f"
             ],
             [
              0.2222222222222222,
              "#7201a8"
             ],
             [
              0.3333333333333333,
              "#9c179e"
             ],
             [
              0.4444444444444444,
              "#bd3786"
             ],
             [
              0.5555555555555556,
              "#d8576b"
             ],
             [
              0.6666666666666666,
              "#ed7953"
             ],
             [
              0.7777777777777778,
              "#fb9f3a"
             ],
             [
              0.8888888888888888,
              "#fdca26"
             ],
             [
              1,
              "#f0f921"
             ]
            ],
            "type": "histogram2d"
           }
          ],
          "histogram2dcontour": [
           {
            "colorbar": {
             "outlinewidth": 0,
             "ticks": ""
            },
            "colorscale": [
             [
              0,
              "#0d0887"
             ],
             [
              0.1111111111111111,
              "#46039f"
             ],
             [
              0.2222222222222222,
              "#7201a8"
             ],
             [
              0.3333333333333333,
              "#9c179e"
             ],
             [
              0.4444444444444444,
              "#bd3786"
             ],
             [
              0.5555555555555556,
              "#d8576b"
             ],
             [
              0.6666666666666666,
              "#ed7953"
             ],
             [
              0.7777777777777778,
              "#fb9f3a"
             ],
             [
              0.8888888888888888,
              "#fdca26"
             ],
             [
              1,
              "#f0f921"
             ]
            ],
            "type": "histogram2dcontour"
           }
          ],
          "mesh3d": [
           {
            "colorbar": {
             "outlinewidth": 0,
             "ticks": ""
            },
            "type": "mesh3d"
           }
          ],
          "parcoords": [
           {
            "line": {
             "colorbar": {
              "outlinewidth": 0,
              "ticks": ""
             }
            },
            "type": "parcoords"
           }
          ],
          "pie": [
           {
            "automargin": true,
            "type": "pie"
           }
          ],
          "scatter": [
           {
            "fillpattern": {
             "fillmode": "overlay",
             "size": 10,
             "solidity": 0.2
            },
            "type": "scatter"
           }
          ],
          "scatter3d": [
           {
            "line": {
             "colorbar": {
              "outlinewidth": 0,
              "ticks": ""
             }
            },
            "marker": {
             "colorbar": {
              "outlinewidth": 0,
              "ticks": ""
             }
            },
            "type": "scatter3d"
           }
          ],
          "scattercarpet": [
           {
            "marker": {
             "colorbar": {
              "outlinewidth": 0,
              "ticks": ""
             }
            },
            "type": "scattercarpet"
           }
          ],
          "scattergeo": [
           {
            "marker": {
             "colorbar": {
              "outlinewidth": 0,
              "ticks": ""
             }
            },
            "type": "scattergeo"
           }
          ],
          "scattergl": [
           {
            "marker": {
             "colorbar": {
              "outlinewidth": 0,
              "ticks": ""
             }
            },
            "type": "scattergl"
           }
          ],
          "scattermapbox": [
           {
            "marker": {
             "colorbar": {
              "outlinewidth": 0,
              "ticks": ""
             }
            },
            "type": "scattermapbox"
           }
          ],
          "scatterpolar": [
           {
            "marker": {
             "colorbar": {
              "outlinewidth": 0,
              "ticks": ""
             }
            },
            "type": "scatterpolar"
           }
          ],
          "scatterpolargl": [
           {
            "marker": {
             "colorbar": {
              "outlinewidth": 0,
              "ticks": ""
             }
            },
            "type": "scatterpolargl"
           }
          ],
          "scatterternary": [
           {
            "marker": {
             "colorbar": {
              "outlinewidth": 0,
              "ticks": ""
             }
            },
            "type": "scatterternary"
           }
          ],
          "surface": [
           {
            "colorbar": {
             "outlinewidth": 0,
             "ticks": ""
            },
            "colorscale": [
             [
              0,
              "#0d0887"
             ],
             [
              0.1111111111111111,
              "#46039f"
             ],
             [
              0.2222222222222222,
              "#7201a8"
             ],
             [
              0.3333333333333333,
              "#9c179e"
             ],
             [
              0.4444444444444444,
              "#bd3786"
             ],
             [
              0.5555555555555556,
              "#d8576b"
             ],
             [
              0.6666666666666666,
              "#ed7953"
             ],
             [
              0.7777777777777778,
              "#fb9f3a"
             ],
             [
              0.8888888888888888,
              "#fdca26"
             ],
             [
              1,
              "#f0f921"
             ]
            ],
            "type": "surface"
           }
          ],
          "table": [
           {
            "cells": {
             "fill": {
              "color": "#EBF0F8"
             },
             "line": {
              "color": "white"
             }
            },
            "header": {
             "fill": {
              "color": "#C8D4E3"
             },
             "line": {
              "color": "white"
             }
            },
            "type": "table"
           }
          ]
         },
         "layout": {
          "annotationdefaults": {
           "arrowcolor": "#2a3f5f",
           "arrowhead": 0,
           "arrowwidth": 1
          },
          "autotypenumbers": "strict",
          "coloraxis": {
           "colorbar": {
            "outlinewidth": 0,
            "ticks": ""
           }
          },
          "colorscale": {
           "diverging": [
            [
             0,
             "#8e0152"
            ],
            [
             0.1,
             "#c51b7d"
            ],
            [
             0.2,
             "#de77ae"
            ],
            [
             0.3,
             "#f1b6da"
            ],
            [
             0.4,
             "#fde0ef"
            ],
            [
             0.5,
             "#f7f7f7"
            ],
            [
             0.6,
             "#e6f5d0"
            ],
            [
             0.7,
             "#b8e186"
            ],
            [
             0.8,
             "#7fbc41"
            ],
            [
             0.9,
             "#4d9221"
            ],
            [
             1,
             "#276419"
            ]
           ],
           "sequential": [
            [
             0,
             "#0d0887"
            ],
            [
             0.1111111111111111,
             "#46039f"
            ],
            [
             0.2222222222222222,
             "#7201a8"
            ],
            [
             0.3333333333333333,
             "#9c179e"
            ],
            [
             0.4444444444444444,
             "#bd3786"
            ],
            [
             0.5555555555555556,
             "#d8576b"
            ],
            [
             0.6666666666666666,
             "#ed7953"
            ],
            [
             0.7777777777777778,
             "#fb9f3a"
            ],
            [
             0.8888888888888888,
             "#fdca26"
            ],
            [
             1,
             "#f0f921"
            ]
           ],
           "sequentialminus": [
            [
             0,
             "#0d0887"
            ],
            [
             0.1111111111111111,
             "#46039f"
            ],
            [
             0.2222222222222222,
             "#7201a8"
            ],
            [
             0.3333333333333333,
             "#9c179e"
            ],
            [
             0.4444444444444444,
             "#bd3786"
            ],
            [
             0.5555555555555556,
             "#d8576b"
            ],
            [
             0.6666666666666666,
             "#ed7953"
            ],
            [
             0.7777777777777778,
             "#fb9f3a"
            ],
            [
             0.8888888888888888,
             "#fdca26"
            ],
            [
             1,
             "#f0f921"
            ]
           ]
          },
          "colorway": [
           "#636efa",
           "#EF553B",
           "#00cc96",
           "#ab63fa",
           "#FFA15A",
           "#19d3f3",
           "#FF6692",
           "#B6E880",
           "#FF97FF",
           "#FECB52"
          ],
          "font": {
           "color": "#2a3f5f"
          },
          "geo": {
           "bgcolor": "white",
           "lakecolor": "white",
           "landcolor": "#E5ECF6",
           "showlakes": true,
           "showland": true,
           "subunitcolor": "white"
          },
          "hoverlabel": {
           "align": "left"
          },
          "hovermode": "closest",
          "mapbox": {
           "style": "light"
          },
          "paper_bgcolor": "white",
          "plot_bgcolor": "#E5ECF6",
          "polar": {
           "angularaxis": {
            "gridcolor": "white",
            "linecolor": "white",
            "ticks": ""
           },
           "bgcolor": "#E5ECF6",
           "radialaxis": {
            "gridcolor": "white",
            "linecolor": "white",
            "ticks": ""
           }
          },
          "scene": {
           "xaxis": {
            "backgroundcolor": "#E5ECF6",
            "gridcolor": "white",
            "gridwidth": 2,
            "linecolor": "white",
            "showbackground": true,
            "ticks": "",
            "zerolinecolor": "white"
           },
           "yaxis": {
            "backgroundcolor": "#E5ECF6",
            "gridcolor": "white",
            "gridwidth": 2,
            "linecolor": "white",
            "showbackground": true,
            "ticks": "",
            "zerolinecolor": "white"
           },
           "zaxis": {
            "backgroundcolor": "#E5ECF6",
            "gridcolor": "white",
            "gridwidth": 2,
            "linecolor": "white",
            "showbackground": true,
            "ticks": "",
            "zerolinecolor": "white"
           }
          },
          "shapedefaults": {
           "line": {
            "color": "#2a3f5f"
           }
          },
          "ternary": {
           "aaxis": {
            "gridcolor": "white",
            "linecolor": "white",
            "ticks": ""
           },
           "baxis": {
            "gridcolor": "white",
            "linecolor": "white",
            "ticks": ""
           },
           "bgcolor": "#E5ECF6",
           "caxis": {
            "gridcolor": "white",
            "linecolor": "white",
            "ticks": ""
           }
          },
          "title": {
           "x": 0.05
          },
          "xaxis": {
           "automargin": true,
           "gridcolor": "white",
           "linecolor": "white",
           "ticks": "",
           "title": {
            "standoff": 15
           },
           "zerolinecolor": "white",
           "zerolinewidth": 2
          },
          "yaxis": {
           "automargin": true,
           "gridcolor": "white",
           "linecolor": "white",
           "ticks": "",
           "title": {
            "standoff": 15
           },
           "zerolinecolor": "white",
           "zerolinewidth": 2
          }
         }
        },
        "title": {
         "text": "Surface of Cost with Variation of R and N"
        },
        "width": 800
       }
      },
      "text/html": [
       "<div>                            <div id=\"d2f25c41-966a-4eb4-a8e1-7b63e23648ac\" class=\"plotly-graph-div\" style=\"height:800px; width:800px;\"></div>            <script type=\"text/javascript\">                require([\"plotly\"], function(Plotly) {                    window.PLOTLYENV=window.PLOTLYENV || {};                                    if (document.getElementById(\"d2f25c41-966a-4eb4-a8e1-7b63e23648ac\")) {                    Plotly.newPlot(                        \"d2f25c41-966a-4eb4-a8e1-7b63e23648ac\",                        [{\"colorscale\":[[0.0,\"blue\"],[1.0,\"red\"]],\"contours\":{\"x\":{\"color\":\"grey\",\"end\":28,\"show\":true,\"size\":1,\"start\":8},\"y\":{\"color\":\"grey\",\"end\":30,\"show\":true,\"size\":1,\"start\":0}},\"surfacecolor\":[[1.0,0.0,0.0,0.0,0.0,0.0,0.0,0.0,0.0,0.0,0.0,0.0,0.0,0.0,0.0,0.0,0.0,0.0,0.0,0.0],[1.0,0.0,0.0,0.0,0.0,0.0,0.0,0.0,0.0,0.0,0.0,0.0,0.0,0.0,0.0,0.0,0.0,0.0,0.0,0.0],[0.0,1.0,0.0,0.0,0.0,0.0,0.0,0.0,0.0,0.0,0.0,0.0,0.0,0.0,0.0,0.0,0.0,0.0,0.0,0.0],[0.0,1.0,0.0,0.0,0.0,0.0,0.0,0.0,0.0,0.0,0.0,0.0,0.0,0.0,0.0,0.0,0.0,0.0,0.0,0.0],[0.0,1.0,0.0,0.0,0.0,0.0,0.0,0.0,0.0,0.0,0.0,0.0,0.0,0.0,0.0,0.0,0.0,0.0,0.0,0.0],[0.0,1.0,0.0,0.0,0.0,0.0,0.0,0.0,0.0,0.0,0.0,0.0,0.0,0.0,0.0,0.0,0.0,0.0,0.0,0.0],[0.0,0.0,0.0,0.0,0.0,0.0,0.0,1.0,0.0,0.0,0.0,0.0,0.0,0.0,0.0,0.0,0.0,0.0,0.0,0.0],[0.0,0.0,0.0,0.0,0.0,0.0,0.0,1.0,0.0,0.0,0.0,0.0,0.0,0.0,0.0,0.0,0.0,0.0,0.0,0.0],[0.0,0.0,0.0,0.0,0.0,0.0,0.0,1.0,0.0,0.0,0.0,0.0,0.0,0.0,0.0,0.0,0.0,0.0,0.0,0.0],[0.0,0.0,0.0,0.0,0.0,0.0,0.0,0.0,1.0,0.0,0.0,0.0,0.0,0.0,0.0,0.0,0.0,0.0,0.0,0.0],[0.0,0.0,0.0,0.0,0.0,0.0,0.0,0.0,1.0,0.0,0.0,0.0,0.0,0.0,0.0,0.0,0.0,0.0,0.0,0.0],[0.0,0.0,0.0,0.0,0.0,0.0,0.0,0.0,1.0,0.0,0.0,0.0,0.0,0.0,0.0,0.0,0.0,0.0,0.0,0.0],[0.0,0.0,0.0,0.0,0.0,0.0,0.0,0.0,1.0,0.0,0.0,0.0,0.0,0.0,0.0,0.0,0.0,0.0,0.0,0.0],[0.0,0.0,0.0,0.0,0.0,0.0,0.0,0.0,1.0,0.0,0.0,0.0,0.0,0.0,0.0,0.0,0.0,0.0,0.0,0.0],[0.0,0.0,0.0,0.0,0.0,0.0,0.0,0.0,1.0,0.0,0.0,0.0,0.0,0.0,0.0,0.0,0.0,0.0,0.0,0.0],[0.0,0.0,0.0,0.0,0.0,0.0,0.0,0.0,1.0,0.0,0.0,0.0,0.0,0.0,0.0,0.0,0.0,0.0,0.0,0.0],[0.0,0.0,0.0,0.0,0.0,0.0,0.0,0.0,1.0,0.0,0.0,0.0,0.0,0.0,0.0,0.0,0.0,0.0,0.0,0.0],[0.0,0.0,0.0,0.0,0.0,0.0,0.0,0.0,1.0,0.0,0.0,0.0,0.0,0.0,0.0,0.0,0.0,0.0,0.0,0.0],[0.0,0.0,0.0,0.0,0.0,0.0,0.0,0.0,1.0,0.0,0.0,0.0,0.0,0.0,0.0,0.0,0.0,0.0,0.0,0.0],[0.0,0.0,0.0,0.0,0.0,0.0,0.0,0.0,1.0,0.0,0.0,0.0,0.0,0.0,0.0,0.0,0.0,0.0,0.0,0.0]],\"x\":[8,9,10,11,12,13,14,15,16,17,18,19,20,21,22,23,24,25,26,27],\"y\":[0.5,2.052631578947368,3.6052631578947367,5.157894736842105,6.7105263157894735,8.263157894736842,9.81578947368421,11.368421052631579,12.921052631578947,14.473684210526315,16.026315789473685,17.57894736842105,19.13157894736842,20.684210526315788,22.236842105263158,23.789473684210524,25.342105263157894,26.894736842105264,28.44736842105263,30.0],\"z\":[[1230.0,1336.5,1461.0,1585.0,1708.5,1831.5,1954.0,2076.0,2201.0,2330.5,2460.0,2589.5,2719.0,2848.5,2978.0,3107.5,3237.0,3366.5,3496.0,3625.5],[1820.0,1853.5263157894738,1960.9473684210525,2066.315789473684,2169.6315789473683,2270.894736842105,2370.1052631578946,2467.2631578947367,2576.736842105263,2704.684210526316,2832.6315789473683,2960.578947368421,3088.5263157894738,3216.4736842105262,3344.4210526315787,3472.3684210526317,3600.315789473684,3728.2631578947367,3856.2105263157896,3984.157894736842],[2410.0,2370.5526315789475,2460.894736842105,2547.6315789473683,2630.7631578947367,2710.2894736842104,2786.2105263157896,2858.5263157894738,2952.4736842105262,3078.8684210526317,3205.2631578947367,3331.657894736842,3458.0526315789475,3584.4473684210525,3710.842105263158,3837.2368421052633,3963.6315789473683,4090.0263157894738,4216.421052631579,4342.815789473684],[3000.0,2887.578947368421,2960.842105263158,3028.9473684210525,3091.894736842105,3149.684210526316,3202.315789473684,3249.789473684211,3328.2105263157896,3453.0526315789475,3577.894736842105,3702.7368421052633,3827.578947368421,3952.421052631579,4077.2631578947367,4202.105263157895,4326.9473684210525,4451.789473684211,4576.631578947368,4701.473684210527],[3590.0,3404.6052631578946,3460.7894736842104,3510.2631578947367,3553.0263157894733,3589.078947368421,3618.421052631579,3641.0526315789475,3703.9473684210525,3827.2368421052633,3950.5263157894733,4073.815789473684,4197.105263157895,4320.394736842105,4443.684210526316,4566.973684210527,4690.263157894737,4813.5526315789475,4936.842105263158,5060.131578947368],[4180.0,3921.6315789473683,3960.7368421052633,3991.5789473684213,4014.157894736842,4028.4736842105262,4034.5263157894738,4032.315789473684,4079.684210526316,4201.421052631579,4323.157894736842,4444.894736842105,4566.631578947368,4688.368421052632,4810.105263157895,4931.842105263158,5053.578947368421,5175.315789473684,5297.0526315789475,5418.789473684211],[4770.0,4438.657894736842,4460.684210526316,4472.894736842105,4475.28947368421,4467.868421052632,4450.631578947368,4423.578947368422,4455.421052631579,4575.605263157895,4695.78947368421,4815.973684210527,4936.157894736842,5056.342105263158,5176.526315789473,5296.71052631579,5416.894736842105,5537.078947368422,5657.263157894737,5777.4473684210525],[5360.0,4955.684210526316,4960.631578947368,4954.21052631579,4936.421052631578,4907.263157894737,4866.736842105263,4814.842105263158,4831.157894736842,4949.78947368421,5068.421052631578,5187.0526315789475,5305.684210526316,5424.315789473684,5542.9473684210525,5661.578947368421,5780.21052631579,5898.842105263158,6017.473684210527,6136.105263157895],[5950.0,5472.710526315789,5460.578947368421,5435.526315789473,5397.552631578947,5346.657894736842,5282.842105263158,5206.105263157895,5206.894736842105,5323.973684210527,5441.052631578947,5558.131578947368,5675.210526315789,5792.28947368421,5909.368421052632,6026.4473684210525,6143.526315789473,6260.605263157895,6377.684210526316,6494.763157894737],[6540.0,5989.736842105263,5960.526315789473,5916.8421052631575,5858.684210526316,5786.0526315789475,5698.9473684210525,5597.368421052632,5582.631578947368,5698.157894736842,5813.684210526316,5929.210526315789,6044.736842105263,6160.263157894737,6275.78947368421,6391.315789473684,6506.842105263158,6622.368421052632,6737.894736842105,6853.421052631578],[7130.0,6506.763157894737,6460.473684210527,6398.1578947368425,6319.815789473684,6225.4473684210525,6115.0526315789475,5988.631578947368,5958.368421052632,6072.342105263158,6186.315789473684,6300.289473684211,6414.263157894737,6528.236842105263,6642.21052631579,6756.184210526316,6870.157894736842,6984.131578947368,7098.105263157895,7212.078947368422],[7719.999999999999,7023.78947368421,6960.421052631578,6879.473684210526,6780.9473684210525,6664.8421052631575,6531.157894736842,6379.894736842105,6334.105263157894,6446.526315789473,6558.9473684210525,6671.368421052632,6783.78947368421,6896.210526315789,7008.631578947368,7121.0526315789475,7233.473684210526,7345.894736842105,7458.315789473683,7570.736842105263],[8310.0,7540.815789473684,7460.368421052632,7360.789473684211,7242.078947368421,7104.236842105263,6947.263157894737,6771.1578947368425,6709.842105263158,6820.710526315789,6931.578947368421,7042.4473684210525,7153.315789473684,7264.184210526316,7375.0526315789475,7485.921052631579,7596.789473684211,7707.6578947368425,7818.526315789473,7929.394736842105],[8900.0,8057.8421052631575,7960.315789473683,7842.105263157894,7703.210526315789,7543.631578947368,7363.368421052631,7162.421052631578,7085.578947368421,7194.894736842105,7304.210526315789,7413.526315789473,7522.8421052631575,7632.157894736842,7741.473684210526,7850.78947368421,7960.105263157894,8069.421052631578,8178.736842105262,8288.052631578947],[9490.0,8574.868421052632,8460.263157894737,8323.42105263158,8164.3421052631575,7983.026315789473,7779.473684210526,7553.684210526316,7461.315789473684,7569.078947368421,7676.8421052631575,7784.605263157895,7892.368421052632,8000.131578947368,8107.894736842105,8215.657894736842,8323.42105263158,8431.184210526317,8538.947368421053,8646.71052631579],[10079.999999999998,9091.894736842103,8960.21052631579,8804.736842105263,8625.473684210527,8422.421052631578,8195.57894736842,7944.947368421052,7837.052631578947,7943.263157894737,8049.473684210526,8155.684210526315,8261.894736842105,8368.105263157893,8474.315789473683,8580.526315789473,8686.736842105263,8792.947368421053,8899.157894736842,9005.36842105263],[10670.0,9608.921052631578,9460.157894736842,9286.052631578947,9086.605263157893,8861.815789473683,8611.684210526317,8336.21052631579,8212.78947368421,8317.447368421053,8422.105263157893,8526.763157894737,8631.421052631578,8736.07894736842,8840.736842105263,8945.394736842105,9050.052631578947,9154.71052631579,9259.368421052632,9364.026315789473],[11260.0,10125.947368421053,9960.105263157895,9767.368421052632,9547.736842105263,9301.21052631579,9027.78947368421,8727.473684210527,8588.526315789473,8691.631578947368,8794.736842105263,8897.842105263158,9000.947368421053,9104.052631578947,9207.157894736843,9310.263157894737,9413.368421052632,9516.473684210527,9619.57894736842,9722.684210526317],[11850.0,10642.973684210527,10460.052631578947,10248.684210526315,10008.868421052632,9740.605263157893,9443.894736842105,9118.736842105263,8964.263157894737,9065.815789473683,9167.368421052632,9268.921052631578,9370.473684210527,9472.026315789473,9573.57894736842,9675.131578947368,9776.684210526317,9878.236842105263,9979.78947368421,10081.342105263157],[12440.0,11160.0,10960.0,10730.0,10470.0,10180.0,9860.0,9510.0,9340.0,9440.0,9540.0,9640.0,9740.0,9840.0,9940.0,10040.0,10140.0,10240.0,10340.0,10440.0]],\"type\":\"surface\"}],                        {\"template\":{\"data\":{\"histogram2dcontour\":[{\"type\":\"histogram2dcontour\",\"colorbar\":{\"outlinewidth\":0,\"ticks\":\"\"},\"colorscale\":[[0.0,\"#0d0887\"],[0.1111111111111111,\"#46039f\"],[0.2222222222222222,\"#7201a8\"],[0.3333333333333333,\"#9c179e\"],[0.4444444444444444,\"#bd3786\"],[0.5555555555555556,\"#d8576b\"],[0.6666666666666666,\"#ed7953\"],[0.7777777777777778,\"#fb9f3a\"],[0.8888888888888888,\"#fdca26\"],[1.0,\"#f0f921\"]]}],\"choropleth\":[{\"type\":\"choropleth\",\"colorbar\":{\"outlinewidth\":0,\"ticks\":\"\"}}],\"histogram2d\":[{\"type\":\"histogram2d\",\"colorbar\":{\"outlinewidth\":0,\"ticks\":\"\"},\"colorscale\":[[0.0,\"#0d0887\"],[0.1111111111111111,\"#46039f\"],[0.2222222222222222,\"#7201a8\"],[0.3333333333333333,\"#9c179e\"],[0.4444444444444444,\"#bd3786\"],[0.5555555555555556,\"#d8576b\"],[0.6666666666666666,\"#ed7953\"],[0.7777777777777778,\"#fb9f3a\"],[0.8888888888888888,\"#fdca26\"],[1.0,\"#f0f921\"]]}],\"heatmap\":[{\"type\":\"heatmap\",\"colorbar\":{\"outlinewidth\":0,\"ticks\":\"\"},\"colorscale\":[[0.0,\"#0d0887\"],[0.1111111111111111,\"#46039f\"],[0.2222222222222222,\"#7201a8\"],[0.3333333333333333,\"#9c179e\"],[0.4444444444444444,\"#bd3786\"],[0.5555555555555556,\"#d8576b\"],[0.6666666666666666,\"#ed7953\"],[0.7777777777777778,\"#fb9f3a\"],[0.8888888888888888,\"#fdca26\"],[1.0,\"#f0f921\"]]}],\"heatmapgl\":[{\"type\":\"heatmapgl\",\"colorbar\":{\"outlinewidth\":0,\"ticks\":\"\"},\"colorscale\":[[0.0,\"#0d0887\"],[0.1111111111111111,\"#46039f\"],[0.2222222222222222,\"#7201a8\"],[0.3333333333333333,\"#9c179e\"],[0.4444444444444444,\"#bd3786\"],[0.5555555555555556,\"#d8576b\"],[0.6666666666666666,\"#ed7953\"],[0.7777777777777778,\"#fb9f3a\"],[0.8888888888888888,\"#fdca26\"],[1.0,\"#f0f921\"]]}],\"contourcarpet\":[{\"type\":\"contourcarpet\",\"colorbar\":{\"outlinewidth\":0,\"ticks\":\"\"}}],\"contour\":[{\"type\":\"contour\",\"colorbar\":{\"outlinewidth\":0,\"ticks\":\"\"},\"colorscale\":[[0.0,\"#0d0887\"],[0.1111111111111111,\"#46039f\"],[0.2222222222222222,\"#7201a8\"],[0.3333333333333333,\"#9c179e\"],[0.4444444444444444,\"#bd3786\"],[0.5555555555555556,\"#d8576b\"],[0.6666666666666666,\"#ed7953\"],[0.7777777777777778,\"#fb9f3a\"],[0.8888888888888888,\"#fdca26\"],[1.0,\"#f0f921\"]]}],\"surface\":[{\"type\":\"surface\",\"colorbar\":{\"outlinewidth\":0,\"ticks\":\"\"},\"colorscale\":[[0.0,\"#0d0887\"],[0.1111111111111111,\"#46039f\"],[0.2222222222222222,\"#7201a8\"],[0.3333333333333333,\"#9c179e\"],[0.4444444444444444,\"#bd3786\"],[0.5555555555555556,\"#d8576b\"],[0.6666666666666666,\"#ed7953\"],[0.7777777777777778,\"#fb9f3a\"],[0.8888888888888888,\"#fdca26\"],[1.0,\"#f0f921\"]]}],\"mesh3d\":[{\"type\":\"mesh3d\",\"colorbar\":{\"outlinewidth\":0,\"ticks\":\"\"}}],\"scatter\":[{\"fillpattern\":{\"fillmode\":\"overlay\",\"size\":10,\"solidity\":0.2},\"type\":\"scatter\"}],\"parcoords\":[{\"type\":\"parcoords\",\"line\":{\"colorbar\":{\"outlinewidth\":0,\"ticks\":\"\"}}}],\"scatterpolargl\":[{\"type\":\"scatterpolargl\",\"marker\":{\"colorbar\":{\"outlinewidth\":0,\"ticks\":\"\"}}}],\"bar\":[{\"error_x\":{\"color\":\"#2a3f5f\"},\"error_y\":{\"color\":\"#2a3f5f\"},\"marker\":{\"line\":{\"color\":\"#E5ECF6\",\"width\":0.5},\"pattern\":{\"fillmode\":\"overlay\",\"size\":10,\"solidity\":0.2}},\"type\":\"bar\"}],\"scattergeo\":[{\"type\":\"scattergeo\",\"marker\":{\"colorbar\":{\"outlinewidth\":0,\"ticks\":\"\"}}}],\"scatterpolar\":[{\"type\":\"scatterpolar\",\"marker\":{\"colorbar\":{\"outlinewidth\":0,\"ticks\":\"\"}}}],\"histogram\":[{\"marker\":{\"pattern\":{\"fillmode\":\"overlay\",\"size\":10,\"solidity\":0.2}},\"type\":\"histogram\"}],\"scattergl\":[{\"type\":\"scattergl\",\"marker\":{\"colorbar\":{\"outlinewidth\":0,\"ticks\":\"\"}}}],\"scatter3d\":[{\"type\":\"scatter3d\",\"line\":{\"colorbar\":{\"outlinewidth\":0,\"ticks\":\"\"}},\"marker\":{\"colorbar\":{\"outlinewidth\":0,\"ticks\":\"\"}}}],\"scattermapbox\":[{\"type\":\"scattermapbox\",\"marker\":{\"colorbar\":{\"outlinewidth\":0,\"ticks\":\"\"}}}],\"scatterternary\":[{\"type\":\"scatterternary\",\"marker\":{\"colorbar\":{\"outlinewidth\":0,\"ticks\":\"\"}}}],\"scattercarpet\":[{\"type\":\"scattercarpet\",\"marker\":{\"colorbar\":{\"outlinewidth\":0,\"ticks\":\"\"}}}],\"carpet\":[{\"aaxis\":{\"endlinecolor\":\"#2a3f5f\",\"gridcolor\":\"white\",\"linecolor\":\"white\",\"minorgridcolor\":\"white\",\"startlinecolor\":\"#2a3f5f\"},\"baxis\":{\"endlinecolor\":\"#2a3f5f\",\"gridcolor\":\"white\",\"linecolor\":\"white\",\"minorgridcolor\":\"white\",\"startlinecolor\":\"#2a3f5f\"},\"type\":\"carpet\"}],\"table\":[{\"cells\":{\"fill\":{\"color\":\"#EBF0F8\"},\"line\":{\"color\":\"white\"}},\"header\":{\"fill\":{\"color\":\"#C8D4E3\"},\"line\":{\"color\":\"white\"}},\"type\":\"table\"}],\"barpolar\":[{\"marker\":{\"line\":{\"color\":\"#E5ECF6\",\"width\":0.5},\"pattern\":{\"fillmode\":\"overlay\",\"size\":10,\"solidity\":0.2}},\"type\":\"barpolar\"}],\"pie\":[{\"automargin\":true,\"type\":\"pie\"}]},\"layout\":{\"autotypenumbers\":\"strict\",\"colorway\":[\"#636efa\",\"#EF553B\",\"#00cc96\",\"#ab63fa\",\"#FFA15A\",\"#19d3f3\",\"#FF6692\",\"#B6E880\",\"#FF97FF\",\"#FECB52\"],\"font\":{\"color\":\"#2a3f5f\"},\"hovermode\":\"closest\",\"hoverlabel\":{\"align\":\"left\"},\"paper_bgcolor\":\"white\",\"plot_bgcolor\":\"#E5ECF6\",\"polar\":{\"bgcolor\":\"#E5ECF6\",\"angularaxis\":{\"gridcolor\":\"white\",\"linecolor\":\"white\",\"ticks\":\"\"},\"radialaxis\":{\"gridcolor\":\"white\",\"linecolor\":\"white\",\"ticks\":\"\"}},\"ternary\":{\"bgcolor\":\"#E5ECF6\",\"aaxis\":{\"gridcolor\":\"white\",\"linecolor\":\"white\",\"ticks\":\"\"},\"baxis\":{\"gridcolor\":\"white\",\"linecolor\":\"white\",\"ticks\":\"\"},\"caxis\":{\"gridcolor\":\"white\",\"linecolor\":\"white\",\"ticks\":\"\"}},\"coloraxis\":{\"colorbar\":{\"outlinewidth\":0,\"ticks\":\"\"}},\"colorscale\":{\"sequential\":[[0.0,\"#0d0887\"],[0.1111111111111111,\"#46039f\"],[0.2222222222222222,\"#7201a8\"],[0.3333333333333333,\"#9c179e\"],[0.4444444444444444,\"#bd3786\"],[0.5555555555555556,\"#d8576b\"],[0.6666666666666666,\"#ed7953\"],[0.7777777777777778,\"#fb9f3a\"],[0.8888888888888888,\"#fdca26\"],[1.0,\"#f0f921\"]],\"sequentialminus\":[[0.0,\"#0d0887\"],[0.1111111111111111,\"#46039f\"],[0.2222222222222222,\"#7201a8\"],[0.3333333333333333,\"#9c179e\"],[0.4444444444444444,\"#bd3786\"],[0.5555555555555556,\"#d8576b\"],[0.6666666666666666,\"#ed7953\"],[0.7777777777777778,\"#fb9f3a\"],[0.8888888888888888,\"#fdca26\"],[1.0,\"#f0f921\"]],\"diverging\":[[0,\"#8e0152\"],[0.1,\"#c51b7d\"],[0.2,\"#de77ae\"],[0.3,\"#f1b6da\"],[0.4,\"#fde0ef\"],[0.5,\"#f7f7f7\"],[0.6,\"#e6f5d0\"],[0.7,\"#b8e186\"],[0.8,\"#7fbc41\"],[0.9,\"#4d9221\"],[1,\"#276419\"]]},\"xaxis\":{\"gridcolor\":\"white\",\"linecolor\":\"white\",\"ticks\":\"\",\"title\":{\"standoff\":15},\"zerolinecolor\":\"white\",\"automargin\":true,\"zerolinewidth\":2},\"yaxis\":{\"gridcolor\":\"white\",\"linecolor\":\"white\",\"ticks\":\"\",\"title\":{\"standoff\":15},\"zerolinecolor\":\"white\",\"automargin\":true,\"zerolinewidth\":2},\"scene\":{\"xaxis\":{\"backgroundcolor\":\"#E5ECF6\",\"gridcolor\":\"white\",\"linecolor\":\"white\",\"showbackground\":true,\"ticks\":\"\",\"zerolinecolor\":\"white\",\"gridwidth\":2},\"yaxis\":{\"backgroundcolor\":\"#E5ECF6\",\"gridcolor\":\"white\",\"linecolor\":\"white\",\"showbackground\":true,\"ticks\":\"\",\"zerolinecolor\":\"white\",\"gridwidth\":2},\"zaxis\":{\"backgroundcolor\":\"#E5ECF6\",\"gridcolor\":\"white\",\"linecolor\":\"white\",\"showbackground\":true,\"ticks\":\"\",\"zerolinecolor\":\"white\",\"gridwidth\":2}},\"shapedefaults\":{\"line\":{\"color\":\"#2a3f5f\"}},\"annotationdefaults\":{\"arrowcolor\":\"#2a3f5f\",\"arrowhead\":0,\"arrowwidth\":1},\"geo\":{\"bgcolor\":\"white\",\"landcolor\":\"#E5ECF6\",\"subunitcolor\":\"white\",\"showland\":true,\"showlakes\":true,\"lakecolor\":\"white\"},\"title\":{\"x\":0.05},\"mapbox\":{\"style\":\"light\"}}},\"title\":{\"text\":\"Surface of Cost with Variation of R and N\"},\"autosize\":false,\"width\":800,\"height\":800,\"scene\":{\"xaxis\":{\"title\":{\"text\":\"N Axis\"}},\"yaxis\":{\"title\":{\"text\":\"R Axis\"}},\"zaxis\":{\"title\":{\"text\":\"Cost Axis\"}}}},                        {\"responsive\": true}                    ).then(function(){\n",
       "                            \n",
       "var gd = document.getElementById('d2f25c41-966a-4eb4-a8e1-7b63e23648ac');\n",
       "var x = new MutationObserver(function (mutations, observer) {{\n",
       "        var display = window.getComputedStyle(gd).display;\n",
       "        if (!display || display === 'none') {{\n",
       "            console.log([gd, 'removed!']);\n",
       "            Plotly.purge(gd);\n",
       "            observer.disconnect();\n",
       "        }}\n",
       "}});\n",
       "\n",
       "// Listen for the removal of the full notebook cells\n",
       "var notebookContainer = gd.closest('#notebook-container');\n",
       "if (notebookContainer) {{\n",
       "    x.observe(notebookContainer, {childList: true});\n",
       "}}\n",
       "\n",
       "// Listen for the clearing of the current output cell\n",
       "var outputEl = gd.closest('.output');\n",
       "if (outputEl) {{\n",
       "    x.observe(outputEl, {childList: true});\n",
       "}}\n",
       "\n",
       "                        })                };                });            </script>        </div>"
      ]
     },
     "metadata": {},
     "output_type": "display_data"
    }
   ],
   "source": [
    "fig = go.Figure(data)\n",
    "fig.update_layout(\n",
    "    title='Surface of Cost with Variation of R and N',\n",
    "    autosize=False,\n",
    "    width=800,\n",
    "    height=800,\n",
    "    scene=dict(\n",
    "        xaxis_title='N Axis',\n",
    "        yaxis_title='R Axis',\n",
    "        zaxis_title='Cost Axis'\n",
    "    )\n",
    ")\n",
    "\n",
    "fig.show()"
   ]
  },
  {
   "cell_type": "code",
   "execution_count": 91,
   "id": "456a4b34",
   "metadata": {},
   "outputs": [],
   "source": [
    "#fig=plt.figure()\n",
    "#ax = fig.add_subplot(111, projection='3d')\n",
    "#ax.plot_surface(np.array(vec_R_N_all), np.array(R_vec), np.array(vec_R_Cost_all), facecolors=surface_color, edgecolor='none')\n",
    "#ax.view_init(elev=50, azim=-45)\n",
    "#plt.show()             "
   ]
  },
  {
   "cell_type": "code",
   "execution_count": 92,
   "id": "122f5e77",
   "metadata": {},
   "outputs": [],
   "source": [
    "idx_min=np.argmin(np.array(vec_R_Cost_all),axis=1) # Compute all minimum\n",
    "Bis=np.full((np.array(vec_R_Cost_all)).shape,'blue')\n",
    "for i,j in enumerate(idx_min):\n",
    "    Bis[i][j]='red'\n",
    "surface_color=Bis"
   ]
  },
  {
   "cell_type": "code",
   "execution_count": 93,
   "id": "3b0763ed",
   "metadata": {},
   "outputs": [],
   "source": [
    "ax.view_init(elev=10, azim=100)\n",
    "plt.show()"
   ]
  },
  {
   "cell_type": "code",
   "execution_count": null,
   "id": "405aff78",
   "metadata": {},
   "outputs": [],
   "source": []
  }
 ],
 "metadata": {
  "kernelspec": {
   "display_name": "Python 3 (ipykernel)",
   "language": "python",
   "name": "python3"
  },
  "language_info": {
   "codemirror_mode": {
    "name": "ipython",
    "version": 3
   },
   "file_extension": ".py",
   "mimetype": "text/x-python",
   "name": "python",
   "nbconvert_exporter": "python",
   "pygments_lexer": "ipython3",
   "version": "3.11.5"
  }
 },
 "nbformat": 4,
 "nbformat_minor": 5
}
